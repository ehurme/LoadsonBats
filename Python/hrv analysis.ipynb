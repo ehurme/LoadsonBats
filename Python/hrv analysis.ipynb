{
 "cells": [
  {
   "cell_type": "code",
   "execution_count": 1,
   "id": "5b45cbef",
   "metadata": {},
   "outputs": [],
   "source": [
    "# pip install hrv-analysis"
   ]
  },
  {
   "cell_type": "code",
   "execution_count": 2,
   "id": "e55a92f9",
   "metadata": {},
   "outputs": [
    {
     "ename": "TypeError",
     "evalue": "'>=' not supported between instances of 'int' and 'ellipsis'",
     "output_type": "error",
     "traceback": [
      "\u001b[1;31m---------------------------------------------------------------------------\u001b[0m",
      "\u001b[1;31mTypeError\u001b[0m                                 Traceback (most recent call last)",
      "Cell \u001b[1;32mIn[2], line 7\u001b[0m\n\u001b[0;32m      4\u001b[0m rr_intervals_list \u001b[38;5;241m=\u001b[39m [\u001b[38;5;241m1000\u001b[39m, \u001b[38;5;241m1050\u001b[39m, \u001b[38;5;241m1020\u001b[39m, \u001b[38;5;241m1080\u001b[39m, \u001b[38;5;241m.\u001b[39m\u001b[38;5;241m.\u001b[39m\u001b[38;5;241m.\u001b[39m, \u001b[38;5;241m1100\u001b[39m, \u001b[38;5;241m1110\u001b[39m, \u001b[38;5;241m1060\u001b[39m]\n\u001b[0;32m      6\u001b[0m \u001b[38;5;66;03m# This remove outliers from signal\u001b[39;00m\n\u001b[1;32m----> 7\u001b[0m rr_intervals_without_outliers \u001b[38;5;241m=\u001b[39m \u001b[43mremove_outliers\u001b[49m\u001b[43m(\u001b[49m\u001b[43mrr_intervals\u001b[49m\u001b[38;5;241;43m=\u001b[39;49m\u001b[43mrr_intervals_list\u001b[49m\u001b[43m,\u001b[49m\u001b[43m  \u001b[49m\n\u001b[0;32m      8\u001b[0m \u001b[43m                                                \u001b[49m\u001b[43mlow_rri\u001b[49m\u001b[38;5;241;43m=\u001b[39;49m\u001b[38;5;241;43m300\u001b[39;49m\u001b[43m,\u001b[49m\u001b[43m \u001b[49m\u001b[43mhigh_rri\u001b[49m\u001b[38;5;241;43m=\u001b[39;49m\u001b[38;5;241;43m2000\u001b[39;49m\u001b[43m)\u001b[49m\n\u001b[0;32m      9\u001b[0m \u001b[38;5;66;03m# This replace outliers nan values with linear interpolation\u001b[39;00m\n\u001b[0;32m     10\u001b[0m interpolated_rr_intervals \u001b[38;5;241m=\u001b[39m interpolate_nan_values(rr_intervals\u001b[38;5;241m=\u001b[39mrr_intervals_without_outliers,\n\u001b[0;32m     11\u001b[0m                                                    interpolation_method\u001b[38;5;241m=\u001b[39m\u001b[38;5;124m\"\u001b[39m\u001b[38;5;124mlinear\u001b[39m\u001b[38;5;124m\"\u001b[39m)\n",
      "File \u001b[1;32m~\\anaconda3\\envs\\wingbeat\\lib\\site-packages\\hrvanalysis\\preprocessing.py:60\u001b[0m, in \u001b[0;36mremove_outliers\u001b[1;34m(rr_intervals, verbose, low_rri, high_rri)\u001b[0m\n\u001b[0;32m     25\u001b[0m \u001b[38;5;250m\u001b[39m\u001b[38;5;124;03m\"\"\"\u001b[39;00m\n\u001b[0;32m     26\u001b[0m \u001b[38;5;124;03mFunction that replace RR-interval outlier by nan.\u001b[39;00m\n\u001b[0;32m     27\u001b[0m \n\u001b[1;32m   (...)\u001b[0m\n\u001b[0;32m     55\u001b[0m \u001b[38;5;124;03mrate response to exercise stress testing in asymptomatic women.\u001b[39;00m\n\u001b[0;32m     56\u001b[0m \u001b[38;5;124;03m\"\"\"\u001b[39;00m\n\u001b[0;32m     58\u001b[0m \u001b[38;5;66;03m# Conversion RrInterval to Heart rate ==> rri (ms) =  1000 / (bpm / 60)\u001b[39;00m\n\u001b[0;32m     59\u001b[0m \u001b[38;5;66;03m# rri 2000 => bpm 30 / rri 300 => bpm 200\u001b[39;00m\n\u001b[1;32m---> 60\u001b[0m rr_intervals_cleaned \u001b[38;5;241m=\u001b[39m [rri \u001b[38;5;28;01mif\u001b[39;00m high_rri \u001b[38;5;241m>\u001b[39m\u001b[38;5;241m=\u001b[39m rri \u001b[38;5;241m>\u001b[39m\u001b[38;5;241m=\u001b[39m low_rri \u001b[38;5;28;01melse\u001b[39;00m np\u001b[38;5;241m.\u001b[39mnan \u001b[38;5;28;01mfor\u001b[39;00m rri \u001b[38;5;129;01min\u001b[39;00m rr_intervals]\n\u001b[0;32m     62\u001b[0m \u001b[38;5;28;01mif\u001b[39;00m verbose:\n\u001b[0;32m     63\u001b[0m     outliers_list \u001b[38;5;241m=\u001b[39m []\n",
      "File \u001b[1;32m~\\anaconda3\\envs\\wingbeat\\lib\\site-packages\\hrvanalysis\\preprocessing.py:60\u001b[0m, in \u001b[0;36m<listcomp>\u001b[1;34m(.0)\u001b[0m\n\u001b[0;32m     25\u001b[0m \u001b[38;5;250m\u001b[39m\u001b[38;5;124;03m\"\"\"\u001b[39;00m\n\u001b[0;32m     26\u001b[0m \u001b[38;5;124;03mFunction that replace RR-interval outlier by nan.\u001b[39;00m\n\u001b[0;32m     27\u001b[0m \n\u001b[1;32m   (...)\u001b[0m\n\u001b[0;32m     55\u001b[0m \u001b[38;5;124;03mrate response to exercise stress testing in asymptomatic women.\u001b[39;00m\n\u001b[0;32m     56\u001b[0m \u001b[38;5;124;03m\"\"\"\u001b[39;00m\n\u001b[0;32m     58\u001b[0m \u001b[38;5;66;03m# Conversion RrInterval to Heart rate ==> rri (ms) =  1000 / (bpm / 60)\u001b[39;00m\n\u001b[0;32m     59\u001b[0m \u001b[38;5;66;03m# rri 2000 => bpm 30 / rri 300 => bpm 200\u001b[39;00m\n\u001b[1;32m---> 60\u001b[0m rr_intervals_cleaned \u001b[38;5;241m=\u001b[39m [rri \u001b[38;5;28;01mif\u001b[39;00m high_rri \u001b[38;5;241m>\u001b[39m\u001b[38;5;241m=\u001b[39m rri \u001b[38;5;241m>\u001b[39m\u001b[38;5;241m=\u001b[39m low_rri \u001b[38;5;28;01melse\u001b[39;00m np\u001b[38;5;241m.\u001b[39mnan \u001b[38;5;28;01mfor\u001b[39;00m rri \u001b[38;5;129;01min\u001b[39;00m rr_intervals]\n\u001b[0;32m     62\u001b[0m \u001b[38;5;28;01mif\u001b[39;00m verbose:\n\u001b[0;32m     63\u001b[0m     outliers_list \u001b[38;5;241m=\u001b[39m []\n",
      "\u001b[1;31mTypeError\u001b[0m: '>=' not supported between instances of 'int' and 'ellipsis'"
     ]
    }
   ],
   "source": [
    "from hrvanalysis import remove_outliers, remove_ectopic_beats, interpolate_nan_values\n",
    "\n",
    "# rr_intervals_list contains integer values of RR-interval\n",
    "rr_intervals_list = [1000, 1050, 1020, 1080, ..., 1100, 1110, 1060]\n",
    "\n",
    "# This remove outliers from signal\n",
    "rr_intervals_without_outliers = remove_outliers(rr_intervals=rr_intervals_list,  \n",
    "                                                low_rri=300, high_rri=2000)\n",
    "# This replace outliers nan values with linear interpolation\n",
    "interpolated_rr_intervals = interpolate_nan_values(rr_intervals=rr_intervals_without_outliers,\n",
    "                                                   interpolation_method=\"linear\")\n",
    "\n",
    "# This remove ectopic beats from signal\n",
    "nn_intervals_list = remove_ectopic_beats(rr_intervals=interpolated_rr_intervals, method=\"malik\")\n",
    "# This replace ectopic beats nan values with linear interpolation\n",
    "interpolated_nn_intervals = interpolate_nan_values(rr_intervals=nn_intervals_list)"
   ]
  },
  {
   "cell_type": "code",
   "execution_count": null,
   "id": "7423d168",
   "metadata": {},
   "outputs": [],
   "source": [
    "from hrvanalysis import plot_psd\n",
    "\n",
    "# nn_intervals_list contains integer values of NN-interval\n",
    "nn_intervals_list = [1000, 1050, 1020, 1080, ..., 1100, 1110, 1060]\n",
    "\n",
    "plot_psd(nn_intervals_list, method=\"welch\")\n",
    "plot_psd(nn_intervals_list, method=\"lomb\")"
   ]
  },
  {
   "cell_type": "code",
   "execution_count": null,
   "id": "66a1819b",
   "metadata": {},
   "outputs": [],
   "source": [
    "from hrvanalysis import plot_poincare\n",
    "\n",
    "# nn_intervals_list contains integer values of NN-interval\n",
    "nn_intervals_list = [1000, 1050, 1020, 1080, ..., 1100, 1110, 1060]\n",
    "\n",
    "plot_poincare(nn_intervals_list)\n",
    "plot_poincare(nn_intervals_list, plot_sd_features=True)"
   ]
  }
 ],
 "metadata": {
  "hide_input": false,
  "kernelspec": {
   "display_name": "Python 3 (ipykernel)",
   "language": "python",
   "name": "python3"
  },
  "language_info": {
   "codemirror_mode": {
    "name": "ipython",
    "version": 3
   },
   "file_extension": ".py",
   "mimetype": "text/x-python",
   "name": "python",
   "nbconvert_exporter": "python",
   "pygments_lexer": "ipython3",
   "version": "3.8.17"
  },
  "toc": {
   "base_numbering": 1,
   "nav_menu": {},
   "number_sections": true,
   "sideBar": true,
   "skip_h1_title": false,
   "title_cell": "Table of Contents",
   "title_sidebar": "Contents",
   "toc_cell": false,
   "toc_position": {},
   "toc_section_display": true,
   "toc_window_display": false
  }
 },
 "nbformat": 4,
 "nbformat_minor": 5
}
